{
 "cells": [
  {
   "cell_type": "code",
   "execution_count": 1,
   "id": "3086a250-1e3f-4cbd-90a7-b3fcf9ec6ab3",
   "metadata": {},
   "outputs": [],
   "source": [
    "import numpy as np"
   ]
  },
  {
   "cell_type": "code",
   "execution_count": 3,
   "id": "8649941f-6ce6-4792-9b42-2fd3f0310004",
   "metadata": {},
   "outputs": [],
   "source": [
    "x= np.array([2,8,-4])\n",
    "y=np.array([1,-7,3])"
   ]
  },
  {
   "cell_type": "code",
   "execution_count": 5,
   "id": "01e5f0e1-b7aa-4a14-9505-35608aec5964",
   "metadata": {},
   "outputs": [
    {
     "data": {
      "text/plain": [
       "-66"
      ]
     },
     "execution_count": 5,
     "metadata": {},
     "output_type": "execute_result"
    }
   ],
   "source": [
    "np.dot(x,y)"
   ]
  },
  {
   "cell_type": "code",
   "execution_count": 7,
   "id": "7195cdd5-3bfb-4fd9-8f38-46ea8121d96e",
   "metadata": {},
   "outputs": [
    {
     "data": {
      "text/plain": [
       "array([[ 5, 12,  6],\n",
       "       [-3,  0, 14]])"
      ]
     },
     "execution_count": 7,
     "metadata": {},
     "output_type": "execute_result"
    }
   ],
   "source": [
    "A = np.array([[5,12,6],[-3,0,14]])\n",
    "A"
   ]
  },
  {
   "cell_type": "code",
   "execution_count": 9,
   "id": "ba86dc15-fe41-4beb-a5c3-ec877d74f1d1",
   "metadata": {},
   "outputs": [
    {
     "data": {
      "text/plain": [
       "array([[ 2, -1],\n",
       "       [ 8,  0],\n",
       "       [ 3,  0]])"
      ]
     },
     "execution_count": 9,
     "metadata": {},
     "output_type": "execute_result"
    }
   ],
   "source": [
    "B= np.array([[2,-1,],[8,0],[3,0]])\n",
    "B"
   ]
  },
  {
   "cell_type": "code",
   "execution_count": 11,
   "id": "b74670fe-0fe5-4d0e-80ff-0e3526673772",
   "metadata": {},
   "outputs": [
    {
     "data": {
      "text/plain": [
       "array([[124,  -5],\n",
       "       [ 36,   3]])"
      ]
     },
     "execution_count": 11,
     "metadata": {},
     "output_type": "execute_result"
    }
   ],
   "source": [
    "np.dot(A,B)"
   ]
  },
  {
   "cell_type": "code",
   "execution_count": null,
   "id": "597cab2c-3cf0-4a1b-bf0f-3f39b7b93e55",
   "metadata": {},
   "outputs": [],
   "source": []
  }
 ],
 "metadata": {
  "kernelspec": {
   "display_name": "Python 3 (ipykernel)",
   "language": "python",
   "name": "python3"
  },
  "language_info": {
   "codemirror_mode": {
    "name": "ipython",
    "version": 3
   },
   "file_extension": ".py",
   "mimetype": "text/x-python",
   "name": "python",
   "nbconvert_exporter": "python",
   "pygments_lexer": "ipython3",
   "version": "3.11.7"
  }
 },
 "nbformat": 4,
 "nbformat_minor": 5
}
