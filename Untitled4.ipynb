{
 "cells": [
  {
   "cell_type": "code",
   "execution_count": 1,
   "id": "23666f97-d91e-4c6a-9406-f70ca93de0f3",
   "metadata": {},
   "outputs": [],
   "source": [
    "import numpy as np"
   ]
  },
  {
   "cell_type": "code",
   "execution_count": 3,
   "id": "be04bc6d-9077-4c01-87aa-d5a4ff0f69ac",
   "metadata": {},
   "outputs": [],
   "source": [
    "S = 5\n"
   ]
  },
  {
   "cell_type": "code",
   "execution_count": 5,
   "id": "939b2747-ee15-4479-9dab-f724ac812947",
   "metadata": {},
   "outputs": [],
   "source": [
    "v= np.array([5,-2,4])\n"
   ]
  },
  {
   "cell_type": "code",
   "execution_count": 7,
   "id": "144e17b7-3c1a-472b-af91-9c8d145d02a1",
   "metadata": {},
   "outputs": [
    {
     "data": {
      "text/plain": [
       "array([ 5, -2,  4])"
      ]
     },
     "execution_count": 7,
     "metadata": {},
     "output_type": "execute_result"
    }
   ],
   "source": [
    "v"
   ]
  },
  {
   "cell_type": "code",
   "execution_count": 9,
   "id": "ab5ee2b1-fe33-4d93-8400-21b0f11ebfa2",
   "metadata": {},
   "outputs": [],
   "source": [
    "m = np.array([[5,12,6], [-3,0,14]])"
   ]
  },
  {
   "cell_type": "code",
   "execution_count": 11,
   "id": "ef8fe62b-8047-4a0d-a433-efb7f2001c01",
   "metadata": {},
   "outputs": [
    {
     "data": {
      "text/plain": [
       "array([[ 5, 12,  6],\n",
       "       [-3,  0, 14]])"
      ]
     },
     "execution_count": 11,
     "metadata": {},
     "output_type": "execute_result"
    }
   ],
   "source": [
    "m"
   ]
  },
  {
   "cell_type": "code",
   "execution_count": 13,
   "id": "f24c8ef1-9030-43ce-b6b9-f9a866ce7d15",
   "metadata": {},
   "outputs": [
    {
     "data": {
      "text/plain": [
       "int"
      ]
     },
     "execution_count": 13,
     "metadata": {},
     "output_type": "execute_result"
    }
   ],
   "source": [
    "type(S)"
   ]
  },
  {
   "cell_type": "code",
   "execution_count": 15,
   "id": "b1a94183-9f2c-4859-8586-b63eeceb4341",
   "metadata": {},
   "outputs": [
    {
     "data": {
      "text/plain": [
       "numpy.ndarray"
      ]
     },
     "execution_count": 15,
     "metadata": {},
     "output_type": "execute_result"
    }
   ],
   "source": [
    "type(m)"
   ]
  },
  {
   "cell_type": "code",
   "execution_count": null,
   "id": "9eef842b-7db7-4968-a96b-c03b43966cd5",
   "metadata": {},
   "outputs": [],
   "source": []
  }
 ],
 "metadata": {
  "kernelspec": {
   "display_name": "Python 3 (ipykernel)",
   "language": "python",
   "name": "python3"
  },
  "language_info": {
   "codemirror_mode": {
    "name": "ipython",
    "version": 3
   },
   "file_extension": ".py",
   "mimetype": "text/x-python",
   "name": "python",
   "nbconvert_exporter": "python",
   "pygments_lexer": "ipython3",
   "version": "3.11.7"
  }
 },
 "nbformat": 4,
 "nbformat_minor": 5
}
